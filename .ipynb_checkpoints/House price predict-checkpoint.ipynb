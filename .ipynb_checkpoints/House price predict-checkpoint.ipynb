{
 "cells": [
  {
   "cell_type": "markdown",
   "metadata": {},
   "source": [
    "## score\n",
    "    by the time I submit my predictions, the score of first place is 0.06629, 2nd place is 0.10567"
   ]
  },
  {
   "cell_type": "code",
   "execution_count": 1,
   "metadata": {
    "collapsed": true
   },
   "outputs": [],
   "source": [
    "import pandas as pd\n",
    "from sklearn.linear_model import LinearRegression, Ridge, RidgeCV, LassoCV, ElasticNetCV\n",
    "from sklearn.kernel_ridge import KernelRidge\n",
    "from sklearn.tree import DecisionTreeRegressor\n",
    "from sklearn.ensemble import RandomForestRegressor, AdaBoostRegressor\n",
    "from sklearn.model_selection import GridSearchCV\n",
    "import time"
   ]
  },
  {
   "cell_type": "code",
   "execution_count": 2,
   "metadata": {
    "collapsed": false
   },
   "outputs": [],
   "source": [
    "train = pd.read_csv('trainC.csv', index_col= 'Id', na_filter = False)\n",
    "test = pd.read_csv('testC.csv', index_col= 'Id', na_filter = False)"
   ]
  },
  {
   "cell_type": "code",
   "execution_count": 3,
   "metadata": {
    "collapsed": false
   },
   "outputs": [],
   "source": [
    "# Using pd.get_dummies separately on train and test dataset results in them having different columns, \n",
    "# which means unable to predict the price of test dataset.\n",
    "ntrain = len(train)\n",
    "temp= pd.concat((train, test))\n",
    "temp= pd.get_dummies(temp)\n",
    "train= temp[0:ntrain]\n",
    "test= temp[ntrain:]\n",
    "features = train.iloc[:, train.columns != 'SalePrice']\n",
    "labels = train['SalePrice']\n",
    "test= test.iloc[:, test.columns != 'SalePrice']"
   ]
  },
  {
   "cell_type": "code",
   "execution_count": 4,
   "metadata": {
    "collapsed": false
   },
   "outputs": [
    {
     "name": "stdout",
     "output_type": "stream",
     "text": [
      "(2919, 5979)\n",
      "Utilities_NoSeWa    0\n",
      "BsmtUnfSF_1411.0    0\n",
      "BsmtUnfSF_1400.0    0\n",
      "BsmtUnfSF_1402.0    0\n",
      "BsmtUnfSF_1404.0    0\n",
      "dtype: int64\n",
      "Utilities_NoSeWa    0\n",
      "BsmtUnfSF_1413      0\n",
      "BsmtUnfSF_1402.0    0\n",
      "BsmtUnfSF_1404.0    0\n",
      "BsmtUnfSF_1405      0\n",
      "dtype: int64\n"
     ]
    }
   ],
   "source": [
    "print temp.shape\n",
    "print train.isnull().sum().sort_values(ascending= False).head(5)\n",
    "print test.isnull().sum().sort_values(ascending= False).head(5)"
   ]
  },
  {
   "cell_type": "code",
   "execution_count": 5,
   "metadata": {
    "collapsed": true
   },
   "outputs": [],
   "source": [
    "def ScoreOnTrain(pred, features, labels):\n",
    "    temp = pd.DataFrame(pred - labels)\n",
    "    print 'describe of (predictions - actual) on training dataset\\n'\n",
    "    print temp.describe()\n",
    "    print '\\nThe score of the model: ', reg.score(features, labels) "
   ]
  },
  {
   "cell_type": "markdown",
   "metadata": {},
   "source": [
    "### simple linear regression"
   ]
  },
  {
   "cell_type": "code",
   "execution_count": 37,
   "metadata": {
    "collapsed": false
   },
   "outputs": [
    {
     "name": "stdout",
     "output_type": "stream",
     "text": [
      "training time:  2.04299998283\n"
     ]
    }
   ],
   "source": [
    "start = time.time()\n",
    "reg = LinearRegression()\n",
    "reg.fit(features, labels)\n",
    "end = time.time()\n",
    "\n",
    "print 'training time: ', end - start"
   ]
  },
  {
   "cell_type": "code",
   "execution_count": 40,
   "metadata": {
    "collapsed": false
   },
   "outputs": [
    {
     "name": "stdout",
     "output_type": "stream",
     "text": [
      "describe of (predictions - actual) on training dataset\n",
      "\n",
      "          SalePrice\n",
      "count  1.460000e+03\n",
      "mean  -1.208997e-08\n",
      "std    2.942974e-06\n",
      "min   -6.360002e-06\n",
      "25%   -1.477310e-06\n",
      "50%   -1.625158e-07\n",
      "75%    1.005828e-06\n",
      "max    4.293397e-05\n",
      "\n",
      "The score of the model:  1.0\n"
     ]
    }
   ],
   "source": [
    "# predicting result looks perfect on training dataset.\n",
    "pred = reg.predict(features)\n",
    "ScoreOnTrain(pred, features, labels)"
   ]
  },
  {
   "cell_type": "code",
   "execution_count": 84,
   "metadata": {
    "collapsed": false
   },
   "outputs": [],
   "source": [
    "# some predicting prices are negative when predicting using the test dataset.\n",
    "pred= reg.predict(test)\n",
    "for i in range(len(pred)):\n",
    "    if pred[i] < 0:\n",
    "        pred[i] = 0"
   ]
  },
  {
   "cell_type": "code",
   "execution_count": 83,
   "metadata": {
    "collapsed": false,
    "scrolled": true
   },
   "outputs": [],
   "source": [
    "result= pd.DataFrame({'Id': test.index, 'SalePrice': pred})\n",
    "result.to_csv('Simple_linear_regression.csv', index= False)"
   ]
  },
  {
   "cell_type": "markdown",
   "metadata": {},
   "source": [
    "### The score of simple linear regression\n",
    "    RMSLE: 4.04180 (1586/1600= 0.99125)"
   ]
  },
  {
   "cell_type": "markdown",
   "metadata": {
    "collapsed": true
   },
   "source": [
    "### ridge regression"
   ]
  },
  {
   "cell_type": "code",
   "execution_count": 42,
   "metadata": {
    "collapsed": false
   },
   "outputs": [
    {
     "name": "stdout",
     "output_type": "stream",
     "text": [
      "training time:  40.4800000191\n"
     ]
    }
   ],
   "source": [
    "start = time.time()\n",
    "reg= RidgeCV(alphas= [i for i in range(20, 30, 1)], cv= 10, scoring= 'r2')\n",
    "reg.fit(features, labels)\n",
    "end = time.time()\n",
    "print 'training time: ', end - start"
   ]
  },
  {
   "cell_type": "code",
   "execution_count": 43,
   "metadata": {
    "collapsed": false
   },
   "outputs": [
    {
     "data": {
      "text/plain": [
       "24"
      ]
     },
     "execution_count": 43,
     "metadata": {},
     "output_type": "execute_result"
    }
   ],
   "source": [
    "reg.alpha_"
   ]
  },
  {
   "cell_type": "code",
   "execution_count": 44,
   "metadata": {
    "collapsed": false
   },
   "outputs": [
    {
     "name": "stdout",
     "output_type": "stream",
     "text": [
      "describe of (predictions - actual) on training dataset\n",
      "\n",
      "          SalePrice\n",
      "count  1.460000e+03\n",
      "mean  -3.500832e-10\n",
      "std    2.226661e+04\n",
      "min   -1.986505e+05\n",
      "25%   -8.188226e+03\n",
      "50%    4.181573e+02\n",
      "75%    9.175404e+03\n",
      "max    2.884474e+05\n",
      "\n",
      "The score of the model:  0.9214398035\n"
     ]
    }
   ],
   "source": [
    "pred = reg.predict(features)\n",
    "ScoreOnTrain(pred, features, labels)"
   ]
  },
  {
   "cell_type": "code",
   "execution_count": 34,
   "metadata": {
    "collapsed": false
   },
   "outputs": [],
   "source": [
    "pred= reg.predict(test)\n",
    "result= pd.DataFrame({'Id': test.index, 'SalePrice': pred})\n",
    "result.to_csv('ridge_regression_01.csv', index= False)"
   ]
  },
  {
   "cell_type": "markdown",
   "metadata": {},
   "source": [
    "### The score of ridge regression\n",
    "    RMSLE: 0.14251 (956/1601= 0.597)"
   ]
  },
  {
   "cell_type": "markdown",
   "metadata": {},
   "source": [
    "### lasso regression"
   ]
  },
  {
   "cell_type": "code",
   "execution_count": 6,
   "metadata": {
    "collapsed": false
   },
   "outputs": [
    {
     "name": "stdout",
     "output_type": "stream",
     "text": [
      "training time:  67.2750000954\n"
     ]
    }
   ],
   "source": [
    "start = time.time()\n",
    "reg= LassoCV(max_iter= 50000, n_jobs= -1, cv= 10)\n",
    "reg.fit(features, labels)\n",
    "end = time.time()\n",
    "print 'training time: ', end - start"
   ]
  },
  {
   "cell_type": "code",
   "execution_count": 15,
   "metadata": {
    "collapsed": false
   },
   "outputs": [
    {
     "name": "stdout",
     "output_type": "stream",
     "text": [
      "209067.774683\n",
      "144\n",
      "11\n",
      "5967\n"
     ]
    }
   ],
   "source": [
    "print reg.alpha_\n",
    "print reg.n_iter_\n",
    "print sum(reg.coef_ != 0)\n",
    "print sum(reg.coef_ == 0)"
   ]
  },
  {
   "cell_type": "code",
   "execution_count": 8,
   "metadata": {
    "collapsed": false
   },
   "outputs": [
    {
     "name": "stdout",
     "output_type": "stream",
     "text": [
      "describe of (predictions - actual) on training dataset\n",
      "\n",
      "          SalePrice\n",
      "count  1.460000e+03\n",
      "mean   9.185647e-11\n",
      "std    4.334759e+04\n",
      "min   -2.934230e+05\n",
      "25%   -1.527180e+04\n",
      "50%    9.009689e+02\n",
      "75%    1.855845e+04\n",
      "max    5.399607e+05\n",
      "\n",
      "The score of the model:  0.702268996184\n"
     ]
    }
   ],
   "source": [
    "pred = reg.predict(features)\n",
    "ScoreOnTrain(pred, features, labels)"
   ]
  },
  {
   "cell_type": "code",
   "execution_count": 53,
   "metadata": {
    "collapsed": true
   },
   "outputs": [],
   "source": [
    "pred= reg.predict(test)\n",
    "result= pd.DataFrame({'Id': test.index, 'SalePrice': pred})\n",
    "result.to_csv('lasso_regression_01.csv', index= False)"
   ]
  },
  {
   "cell_type": "markdown",
   "metadata": {},
   "source": [
    "### the score of lasso regression\n",
    "    RMSLE: 0.21158 (1371/1601= 0.856)"
   ]
  },
  {
   "cell_type": "markdown",
   "metadata": {},
   "source": [
    "### ElasticNet"
   ]
  },
  {
   "cell_type": "code",
   "execution_count": 13,
   "metadata": {
    "collapsed": false
   },
   "outputs": [
    {
     "name": "stdout",
     "output_type": "stream",
     "text": [
      "training time:  758.113000154\n"
     ]
    }
   ],
   "source": [
    "start = time.time()\n",
    "reg= ElasticNetCV(l1_ratio= [0.1*i for i in range(1, 10)], cv= 10)\n",
    "reg.fit(features, labels)\n",
    "end = time.time()\n",
    "print 'training time: ', end - start"
   ]
  },
  {
   "cell_type": "code",
   "execution_count": 16,
   "metadata": {
    "collapsed": false
   },
   "outputs": [
    {
     "name": "stdout",
     "output_type": "stream",
     "text": [
      "232297.527426\n",
      "0.9\n",
      "35\n",
      "describe of (predictions - actual) on training dataset\n",
      "\n",
      "          SalePrice\n",
      "count  1.460000e+03\n",
      "mean   8.970359e-13\n",
      "std    4.991128e+04\n",
      "min   -2.943360e+05\n",
      "25%   -2.132334e+04\n",
      "50%    1.195273e+03\n",
      "75%    2.467909e+04\n",
      "max    5.393296e+05\n",
      "\n",
      "The score of the model:  0.605277711211\n"
     ]
    }
   ],
   "source": [
    "print reg.alpha_\n",
    "print reg.l1_ratio_\n",
    "print reg.n_iter_\n",
    "pred = reg.predict(features)\n",
    "ScoreOnTrain(pred, features, labels)"
   ]
  },
  {
   "cell_type": "code",
   "execution_count": 17,
   "metadata": {
    "collapsed": true
   },
   "outputs": [],
   "source": [
    "pred= reg.predict(test)\n",
    "result= pd.DataFrame({'Id': test.index, 'SalePrice': pred})\n",
    "result.to_csv('ElasticNet_01.csv', index= False)"
   ]
  },
  {
   "cell_type": "markdown",
   "metadata": {},
   "source": [
    "### the score of ElasticNet regression\n",
    "    RMSLE: 0.25590 (1435/1601= 0.896)"
   ]
  },
  {
   "cell_type": "markdown",
   "metadata": {},
   "source": [
    "### Kernel Ridge"
   ]
  },
  {
   "cell_type": "code",
   "execution_count": 9,
   "metadata": {
    "collapsed": false
   },
   "outputs": [
    {
     "name": "stdout",
     "output_type": "stream",
     "text": [
      "training time:  64.6600000858\n"
     ]
    }
   ],
   "source": [
    "start = time.time()\n",
    "\n",
    "\n",
    "parameters= {\n",
    "    'alpha': [10**i for i in range(-5, 1)],\n",
    "    'kernel': ('polynomial', 'linear'),\n",
    "    'degree': range(1, 5)\n",
    "    \n",
    "}\n",
    "\n",
    "reg= GridSearchCV(KernelRidge(), param_grid= parameters, n_jobs= -1)\n",
    "reg.fit(features, labels)\n",
    "end = time.time()\n",
    "print 'training time: ', end - start"
   ]
  },
  {
   "cell_type": "code",
   "execution_count": 10,
   "metadata": {
    "collapsed": false
   },
   "outputs": [
    {
     "name": "stdout",
     "output_type": "stream",
     "text": [
      "KernelRidge(alpha=0.001, coef0=1, degree=1, gamma=None, kernel='polynomial',\n",
      "      kernel_params=None)\n",
      "0.840821166822\n",
      "describe of (predictions - actual) on training dataset\n",
      "\n",
      "           SalePrice\n",
      "count    1460.000000\n",
      "mean       -0.095822\n",
      "std     15761.831697\n",
      "min   -127110.890625\n",
      "25%     -6564.123047\n",
      "50%       250.740234\n",
      "75%      6905.677246\n",
      "max    180777.390625\n",
      "\n",
      "The score of the model:  0.960635246625\n"
     ]
    }
   ],
   "source": [
    "print reg.best_estimator_\n",
    "print reg.best_score_\n",
    "pred = reg.predict(features)\n",
    "ScoreOnTrain(pred, features, labels)"
   ]
  },
  {
   "cell_type": "code",
   "execution_count": 11,
   "metadata": {
    "collapsed": false
   },
   "outputs": [],
   "source": [
    "pred= reg.predict(test)\n",
    "result= pd.DataFrame({'Id': test.index, 'SalePrice': pred})\n",
    "result.to_csv('KernelRidge_regression_01.csv', index= False)"
   ]
  },
  {
   "cell_type": "markdown",
   "metadata": {},
   "source": [
    "### The score of KernelRidge regression\n",
    "    RMSLE: 0.14943 (1070/1601= 0.668)"
   ]
  },
  {
   "cell_type": "markdown",
   "metadata": {},
   "source": [
    "### DecisionTreeRegressor"
   ]
  },
  {
   "cell_type": "code",
   "execution_count": 24,
   "metadata": {
    "collapsed": false
   },
   "outputs": [
    {
     "name": "stdout",
     "output_type": "stream",
     "text": [
      "training time:  161.46600008\n"
     ]
    }
   ],
   "source": [
    "start = time.time()\n",
    "parameters= {\n",
    "    'criterion': ('mae', 'mse'),\n",
    "    'min_samples_leaf': range(1, 10)\n",
    "}\n",
    "reg= GridSearchCV(DecisionTreeRegressor(), param_grid= parameters, cv= 10)\n",
    "reg.fit(features, labels)\n",
    "end = time.time()\n",
    "print 'training time: ', end - start"
   ]
  },
  {
   "cell_type": "code",
   "execution_count": 25,
   "metadata": {
    "collapsed": false
   },
   "outputs": [
    {
     "name": "stdout",
     "output_type": "stream",
     "text": [
      "DecisionTreeRegressor(criterion='mae', max_depth=None, max_features=None,\n",
      "           max_leaf_nodes=None, min_impurity_split=1e-07,\n",
      "           min_samples_leaf=3, min_samples_split=2,\n",
      "           min_weight_fraction_leaf=0.0, presort=False, random_state=None,\n",
      "           splitter='best')\n",
      "0.770407175261\n",
      "describe of (predictions - actual) on training dataset\n",
      "\n",
      "           SalePrice\n",
      "count    1460.000000\n",
      "mean      114.249315\n",
      "std     15934.817289\n",
      "min   -140250.000000\n",
      "25%     -2925.000000\n",
      "50%         0.000000\n",
      "75%      2600.000000\n",
      "max    120000.000000\n",
      "\n",
      "The score of the model:  0.959764381701\n"
     ]
    }
   ],
   "source": [
    "print reg.best_estimator_\n",
    "print reg.best_score_\n",
    "pred = reg.predict(features)\n",
    "ScoreOnTrain(pred, features, labels)"
   ]
  },
  {
   "cell_type": "code",
   "execution_count": 26,
   "metadata": {
    "collapsed": true
   },
   "outputs": [],
   "source": [
    "pred= reg.predict(test)\n",
    "result= pd.DataFrame({'Id': test.index, 'SalePrice': pred})\n",
    "result.to_csv('DecisionTreeRegressor_02.csv', index= False)"
   ]
  },
  {
   "cell_type": "markdown",
   "metadata": {},
   "source": [
    "### The score of DecisionTreeRegressor \n",
    "    RMSLE: 0.23221 (1406/1601= 0.878)"
   ]
  },
  {
   "cell_type": "markdown",
   "metadata": {},
   "source": [
    "### RandomForestRegressor"
   ]
  },
  {
   "cell_type": "code",
   "execution_count": null,
   "metadata": {
    "collapsed": false
   },
   "outputs": [],
   "source": [
    "start = time.time()\n",
    "parameters= {\n",
    "    'criterion': ('mae', 'mse'),\n",
    "    'min_samples_leaf': range(1, 10), \n",
    "    'max_depth': range(5, 10)\n",
    "}\n",
    "reg= GridSearchCV(RandomForestRegressor(n_estimators= 10), param_grid= parameters, cv= 10)\n",
    "reg.fit(features, labels)\n",
    "end = time.time()\n",
    "print 'training time: ', end - start"
   ]
  },
  {
   "cell_type": "code",
   "execution_count": 31,
   "metadata": {
    "collapsed": false
   },
   "outputs": [
    {
     "name": "stdout",
     "output_type": "stream",
     "text": [
      "RandomForestRegressor(bootstrap=True, criterion='mae', max_depth=None,\n",
      "           max_features='auto', max_leaf_nodes=None,\n",
      "           min_impurity_split=1e-07, min_samples_leaf=2,\n",
      "           min_samples_split=2, min_weight_fraction_leaf=0.0,\n",
      "           n_estimators=10, n_jobs=-1, oob_score=False, random_state=None,\n",
      "           verbose=0, warm_start=False)\n",
      "0.847252079931\n",
      "describe of (predictions - actual) on training dataset\n",
      "\n",
      "           SalePrice\n",
      "count    1460.000000\n",
      "mean     -175.819692\n",
      "std     17530.732942\n",
      "min   -172336.950000\n",
      "25%     -5103.875000\n",
      "50%       350.450000\n",
      "75%      6061.562500\n",
      "max    261907.400000\n",
      "\n",
      "The score of the model:  0.951298983911\n"
     ]
    }
   ],
   "source": [
    "print reg.best_estimator_\n",
    "print reg.best_score_\n",
    "pred = reg.predict(features)\n",
    "ScoreOnTrain(pred, features, labels)"
   ]
  },
  {
   "cell_type": "code",
   "execution_count": null,
   "metadata": {
    "collapsed": true
   },
   "outputs": [],
   "source": []
  }
 ],
 "metadata": {
  "anaconda-cloud": {},
  "kernelspec": {
   "display_name": "Python [conda root]",
   "language": "python",
   "name": "conda-root-py"
  },
  "language_info": {
   "codemirror_mode": {
    "name": "ipython",
    "version": 2
   },
   "file_extension": ".py",
   "mimetype": "text/x-python",
   "name": "python",
   "nbconvert_exporter": "python",
   "pygments_lexer": "ipython2",
   "version": "2.7.12"
  }
 },
 "nbformat": 4,
 "nbformat_minor": 1
}
