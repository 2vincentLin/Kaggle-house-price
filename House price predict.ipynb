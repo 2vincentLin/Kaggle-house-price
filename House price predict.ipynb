{
 "cells": [
  {
   "cell_type": "code",
   "execution_count": 1,
   "metadata": {
    "collapsed": true
   },
   "outputs": [],
   "source": [
    "import pandas as pd\n",
    "from sklearn.linear_model import LinearRegression\n",
    "from sklearn.model_selection import GridSearchCV\n",
    "import time"
   ]
  },
  {
   "cell_type": "code",
   "execution_count": 45,
   "metadata": {
    "collapsed": false
   },
   "outputs": [],
   "source": [
    "train = pd.read_csv('trainC.csv', index_col= 'Id', na_filter = False)\n",
    "test = pd.read_csv('testC.csv', index_col= 'Id', na_filter = False)"
   ]
  },
  {
   "cell_type": "code",
   "execution_count": 47,
   "metadata": {
    "collapsed": false
   },
   "outputs": [
    {
     "name": "stdout",
     "output_type": "stream",
     "text": [
      "Int64Index([   1,    2,    3,    4,    5,    6,    7,    8,    9,   10,\n",
      "            ...\n",
      "            1451, 1452, 1453, 1454, 1455, 1456, 1457, 1458, 1459, 1460],\n",
      "           dtype='int64', name=u'Id', length=1460)\n",
      "Int64Index([1461, 1462, 1463, 1464, 1465, 1466, 1467, 1468, 1469, 1470,\n",
      "            ...\n",
      "            2910, 2911, 2912, 2913, 2914, 2915, 2916, 2917, 2918, 2919],\n",
      "           dtype='int64', name=u'Id', length=1459)\n"
     ]
    }
   ],
   "source": [
    "print train.index\n",
    "print test.index"
   ]
  },
  {
   "cell_type": "code",
   "execution_count": 65,
   "metadata": {
    "collapsed": false
   },
   "outputs": [],
   "source": [
    "# Using pd.get_dummies separately on train and test dataset results in them having different columns, \n",
    "# which means unable to predict the price of test dataset.\n",
    "temp= pd.concat((train, test))\n",
    "temp= pd.get_dummies(temp)\n",
    "train= temp[0:1460]\n",
    "test= temp[1460:]\n",
    "features = train.iloc[:, train.columns != 'SalePrice']\n",
    "labels = train['SalePrice']\n",
    "test= test.iloc[:, test.columns != 'SalePrice']"
   ]
  },
  {
   "cell_type": "code",
   "execution_count": 66,
   "metadata": {
    "collapsed": false
   },
   "outputs": [
    {
     "name": "stdout",
     "output_type": "stream",
     "text": [
      "Utilities_NoSeWa    0\n",
      "BsmtUnfSF_1411.0    0\n",
      "BsmtUnfSF_1400.0    0\n",
      "BsmtUnfSF_1402.0    0\n",
      "BsmtUnfSF_1404.0    0\n",
      "dtype: int64\n",
      "Utilities_NoSeWa    0\n",
      "BsmtUnfSF_1413      0\n",
      "BsmtUnfSF_1402.0    0\n",
      "BsmtUnfSF_1404.0    0\n",
      "BsmtUnfSF_1405      0\n",
      "dtype: int64\n"
     ]
    }
   ],
   "source": [
    "print train.isnull().sum().sort_values(ascending= False).head(5)\n",
    "print test.isnull().sum().sort_values(ascending= False).head(5)"
   ]
  },
  {
   "cell_type": "code",
   "execution_count": 85,
   "metadata": {
    "collapsed": false
   },
   "outputs": [
    {
     "name": "stdout",
     "output_type": "stream",
     "text": [
      "training time:  1.84599995613\n"
     ]
    }
   ],
   "source": [
    "start = time.time()\n",
    "reg = LinearRegression()\n",
    "reg.fit(features, labels)\n",
    "end = time.time()\n",
    "\n",
    "print 'training time: ', end - start"
   ]
  },
  {
   "cell_type": "code",
   "execution_count": 68,
   "metadata": {
    "collapsed": false
   },
   "outputs": [
    {
     "name": "stdout",
     "output_type": "stream",
     "text": [
      "          SalePrice\n",
      "count  1.460000e+03\n",
      "mean  -1.208997e-08\n",
      "std    2.942974e-06\n",
      "min   -6.360002e-06\n",
      "25%   -1.477310e-06\n",
      "50%   -1.625158e-07\n",
      "75%    1.005828e-06\n",
      "max    4.293397e-05\n",
      "1.0\n"
     ]
    }
   ],
   "source": [
    "# predicting result looks perfect on training dataset.\n",
    "pred = reg.predict(features)\n",
    "temp = pd.DataFrame(pred - labels)\n",
    "print temp.describe()\n",
    "print reg.score(features, labels)"
   ]
  },
  {
   "cell_type": "code",
   "execution_count": 84,
   "metadata": {
    "collapsed": false
   },
   "outputs": [],
   "source": [
    "# some predicting prices are negative when predicting using the test dataset.\n",
    "pred= reg.predict(test)\n",
    "for i in range(len(pred)):\n",
    "    if pred[i] < 0:\n",
    "        pred[i] = 0"
   ]
  },
  {
   "cell_type": "code",
   "execution_count": 83,
   "metadata": {
    "collapsed": false,
    "scrolled": true
   },
   "outputs": [],
   "source": [
    "result= pd.DataFrame({'Id': test.index, 'SalePrice': pred})\n",
    "result.to_csv('Simple_linear_regression.csv', index= False)"
   ]
  },
  {
   "cell_type": "markdown",
   "metadata": {},
   "source": [
    "### The score of simple linear regression\n",
    "    RMSLE: 4.04180"
   ]
  },
  {
   "cell_type": "code",
   "execution_count": null,
   "metadata": {
    "collapsed": true
   },
   "outputs": [],
   "source": []
  }
 ],
 "metadata": {
  "anaconda-cloud": {},
  "kernelspec": {
   "display_name": "Python [conda root]",
   "language": "python",
   "name": "conda-root-py"
  },
  "language_info": {
   "codemirror_mode": {
    "name": "ipython",
    "version": 2
   },
   "file_extension": ".py",
   "mimetype": "text/x-python",
   "name": "python",
   "nbconvert_exporter": "python",
   "pygments_lexer": "ipython2",
   "version": "2.7.12"
  }
 },
 "nbformat": 4,
 "nbformat_minor": 1
}
