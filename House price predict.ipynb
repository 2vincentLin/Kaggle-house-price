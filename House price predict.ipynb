{
 "cells": [
  {
   "cell_type": "markdown",
   "metadata": {},
   "source": [
    "## score\n",
    "    by the time I submit my predictions, the score of first place is 0.06629, 2nd place is 0.10567"
   ]
  },
  {
   "cell_type": "code",
   "execution_count": 1,
   "metadata": {
    "collapsed": true
   },
   "outputs": [],
   "source": [
    "import pandas as pd\n",
    "from sklearn.linear_model import LinearRegression\n",
    "from sklearn.linear_model import Ridge, RidgeCV, LassoCV\n",
    "from sklearn.kernel_ridge import KernelRidge\n",
    "from sklearn.model_selection import GridSearchCV\n",
    "import time"
   ]
  },
  {
   "cell_type": "code",
   "execution_count": 2,
   "metadata": {
    "collapsed": false
   },
   "outputs": [],
   "source": [
    "train = pd.read_csv('trainC.csv', index_col= 'Id', na_filter = False)\n",
    "test = pd.read_csv('testC.csv', index_col= 'Id', na_filter = False)"
   ]
  },
  {
   "cell_type": "code",
   "execution_count": 3,
   "metadata": {
    "collapsed": false
   },
   "outputs": [],
   "source": [
    "# Using pd.get_dummies separately on train and test dataset results in them having different columns, \n",
    "# which means unable to predict the price of test dataset.\n",
    "ntrain = len(train)\n",
    "temp= pd.concat((train, test))\n",
    "temp= pd.get_dummies(temp)\n",
    "train= temp[0:ntrain]\n",
    "test= temp[ntrain:]\n",
    "features = train.iloc[:, train.columns != 'SalePrice']\n",
    "labels = train['SalePrice']\n",
    "test= test.iloc[:, test.columns != 'SalePrice']"
   ]
  },
  {
   "cell_type": "code",
   "execution_count": 16,
   "metadata": {
    "collapsed": false
   },
   "outputs": [
    {
     "name": "stdout",
     "output_type": "stream",
     "text": [
      "(2919, 5979)\n",
      "Utilities_NoSeWa    0\n",
      "BsmtUnfSF_1411.0    0\n",
      "BsmtUnfSF_1400.0    0\n",
      "BsmtUnfSF_1402.0    0\n",
      "BsmtUnfSF_1404.0    0\n",
      "dtype: int64\n",
      "Utilities_NoSeWa    0\n",
      "BsmtUnfSF_1413      0\n",
      "BsmtUnfSF_1402.0    0\n",
      "BsmtUnfSF_1404.0    0\n",
      "BsmtUnfSF_1405      0\n",
      "dtype: int64\n"
     ]
    }
   ],
   "source": [
    "print temp.shape\n",
    "print train.isnull().sum().sort_values(ascending= False).head(5)\n",
    "print test.isnull().sum().sort_values(ascending= False).head(5)"
   ]
  },
  {
   "cell_type": "code",
   "execution_count": 5,
   "metadata": {
    "collapsed": true
   },
   "outputs": [],
   "source": [
    "def ScoreOnTrain(pred, features, labels):\n",
    "    temp = pd.DataFrame(pred - labels)\n",
    "    print 'describe of (predictions - actual) on training dataset\\n'\n",
    "    print temp.describe()\n",
    "    print '\\nThe score of the model: ', reg.score(features, labels) "
   ]
  },
  {
   "cell_type": "markdown",
   "metadata": {},
   "source": [
    "### simple linear regression"
   ]
  },
  {
   "cell_type": "code",
   "execution_count": 37,
   "metadata": {
    "collapsed": false
   },
   "outputs": [
    {
     "name": "stdout",
     "output_type": "stream",
     "text": [
      "training time:  2.04299998283\n"
     ]
    }
   ],
   "source": [
    "start = time.time()\n",
    "reg = LinearRegression()\n",
    "reg.fit(features, labels)\n",
    "end = time.time()\n",
    "\n",
    "print 'training time: ', end - start"
   ]
  },
  {
   "cell_type": "code",
   "execution_count": 40,
   "metadata": {
    "collapsed": false
   },
   "outputs": [
    {
     "name": "stdout",
     "output_type": "stream",
     "text": [
      "describe of (predictions - actual) on training dataset\n",
      "\n",
      "          SalePrice\n",
      "count  1.460000e+03\n",
      "mean  -1.208997e-08\n",
      "std    2.942974e-06\n",
      "min   -6.360002e-06\n",
      "25%   -1.477310e-06\n",
      "50%   -1.625158e-07\n",
      "75%    1.005828e-06\n",
      "max    4.293397e-05\n",
      "\n",
      "The score of the model:  1.0\n"
     ]
    }
   ],
   "source": [
    "# predicting result looks perfect on training dataset.\n",
    "pred = reg.predict(features)\n",
    "ScoreOnTrain(pred, features, labels)"
   ]
  },
  {
   "cell_type": "code",
   "execution_count": 84,
   "metadata": {
    "collapsed": false
   },
   "outputs": [],
   "source": [
    "# some predicting prices are negative when predicting using the test dataset.\n",
    "pred= reg.predict(test)\n",
    "for i in range(len(pred)):\n",
    "    if pred[i] < 0:\n",
    "        pred[i] = 0"
   ]
  },
  {
   "cell_type": "code",
   "execution_count": 83,
   "metadata": {
    "collapsed": false,
    "scrolled": true
   },
   "outputs": [],
   "source": [
    "result= pd.DataFrame({'Id': test.index, 'SalePrice': pred})\n",
    "result.to_csv('Simple_linear_regression.csv', index= False)"
   ]
  },
  {
   "cell_type": "markdown",
   "metadata": {},
   "source": [
    "### The score of simple linear regression\n",
    "    RMSLE: 4.04180 (1586/1600= 0.99125)"
   ]
  },
  {
   "cell_type": "markdown",
   "metadata": {
    "collapsed": true
   },
   "source": [
    "### ridge regression"
   ]
  },
  {
   "cell_type": "code",
   "execution_count": 42,
   "metadata": {
    "collapsed": false
   },
   "outputs": [
    {
     "name": "stdout",
     "output_type": "stream",
     "text": [
      "training time:  40.4800000191\n"
     ]
    }
   ],
   "source": [
    "start = time.time()\n",
    "reg= RidgeCV(alphas= [i for i in range(20, 30, 1)], cv= 10, scoring= 'r2')\n",
    "reg.fit(features, labels)\n",
    "end = time.time()\n",
    "print 'training time: ', end - start"
   ]
  },
  {
   "cell_type": "code",
   "execution_count": 43,
   "metadata": {
    "collapsed": false
   },
   "outputs": [
    {
     "data": {
      "text/plain": [
       "24"
      ]
     },
     "execution_count": 43,
     "metadata": {},
     "output_type": "execute_result"
    }
   ],
   "source": [
    "reg.alpha_"
   ]
  },
  {
   "cell_type": "code",
   "execution_count": 44,
   "metadata": {
    "collapsed": false
   },
   "outputs": [
    {
     "name": "stdout",
     "output_type": "stream",
     "text": [
      "describe of (predictions - actual) on training dataset\n",
      "\n",
      "          SalePrice\n",
      "count  1.460000e+03\n",
      "mean  -3.500832e-10\n",
      "std    2.226661e+04\n",
      "min   -1.986505e+05\n",
      "25%   -8.188226e+03\n",
      "50%    4.181573e+02\n",
      "75%    9.175404e+03\n",
      "max    2.884474e+05\n",
      "\n",
      "The score of the model:  0.9214398035\n"
     ]
    }
   ],
   "source": [
    "pred = reg.predict(features)\n",
    "ScoreOnTrain(pred, features, labels)"
   ]
  },
  {
   "cell_type": "code",
   "execution_count": 34,
   "metadata": {
    "collapsed": false
   },
   "outputs": [],
   "source": [
    "pred= reg.predict(test)\n",
    "result= pd.DataFrame({'Id': test.index, 'SalePrice': pred})\n",
    "result.to_csv('ridge_regression_01.csv', index= False)"
   ]
  },
  {
   "cell_type": "markdown",
   "metadata": {},
   "source": [
    "### The score of ridge regression\n",
    "    RMSLE: 0.14251 (956/1601= 0.597)"
   ]
  },
  {
   "cell_type": "markdown",
   "metadata": {},
   "source": [
    "### lasso regression"
   ]
  },
  {
   "cell_type": "code",
   "execution_count": 6,
   "metadata": {
    "collapsed": false
   },
   "outputs": [
    {
     "name": "stdout",
     "output_type": "stream",
     "text": [
      "training time:  67.2750000954\n"
     ]
    }
   ],
   "source": [
    "start = time.time()\n",
    "reg= LassoCV(max_iter= 50000, n_jobs= -1, cv= 10)\n",
    "reg.fit(features, labels)\n",
    "end = time.time()\n",
    "print 'training time: ', end - start"
   ]
  },
  {
   "cell_type": "code",
   "execution_count": 15,
   "metadata": {
    "collapsed": false
   },
   "outputs": [
    {
     "name": "stdout",
     "output_type": "stream",
     "text": [
      "209067.774683\n",
      "144\n",
      "11\n",
      "5967\n"
     ]
    }
   ],
   "source": [
    "print reg.alpha_\n",
    "print reg.n_iter_\n",
    "print sum(reg.coef_ != 0)\n",
    "print sum(reg.coef_ == 0)"
   ]
  },
  {
   "cell_type": "code",
   "execution_count": 8,
   "metadata": {
    "collapsed": false
   },
   "outputs": [
    {
     "name": "stdout",
     "output_type": "stream",
     "text": [
      "describe of (predictions - actual) on training dataset\n",
      "\n",
      "          SalePrice\n",
      "count  1.460000e+03\n",
      "mean   9.185647e-11\n",
      "std    4.334759e+04\n",
      "min   -2.934230e+05\n",
      "25%   -1.527180e+04\n",
      "50%    9.009689e+02\n",
      "75%    1.855845e+04\n",
      "max    5.399607e+05\n",
      "\n",
      "The score of the model:  0.702268996184\n"
     ]
    }
   ],
   "source": [
    "pred = reg.predict(features)\n",
    "ScoreOnTrain(pred, features, labels)"
   ]
  },
  {
   "cell_type": "code",
   "execution_count": 53,
   "metadata": {
    "collapsed": true
   },
   "outputs": [],
   "source": [
    "pred= reg.predict(test)\n",
    "result= pd.DataFrame({'Id': test.index, 'SalePrice': pred})\n",
    "result.to_csv('lasso_regression_01.csv', index= False)"
   ]
  },
  {
   "cell_type": "markdown",
   "metadata": {},
   "source": [
    "### the score of lasso regression\n",
    "    RMSLE: 0.21158 (1371/1601= 0.856)"
   ]
  },
  {
   "cell_type": "markdown",
   "metadata": {},
   "source": [
    "### Kernel Ridge"
   ]
  },
  {
   "cell_type": "code",
   "execution_count": null,
   "metadata": {
    "collapsed": false
   },
   "outputs": [],
   "source": [
    "start = time.time()\n",
    "\n",
    "\n",
    "parameters= {\n",
    "    'alpha': [10**i for i in range(-10, 1)],\n",
    "    'kernel': ('linear', 'polynomial', 'chi2'),\n",
    "    'degree': range(1, 5)\n",
    "    \n",
    "}\n",
    "\n",
    "reg= GridSearchCV(KernelRidge(), param_grid= parameters, n_jobs= -1)\n",
    "reg.fit(features, labels)\n",
    "end = time.time()\n",
    "print 'training time: ', end - start"
   ]
  },
  {
   "cell_type": "code",
   "execution_count": null,
   "metadata": {
    "collapsed": false
   },
   "outputs": [],
   "source": [
    "print reg.best_estimator_\n",
    "print reg.best_score_\n",
    "pred = reg.predict(features)\n",
    "ScoreOnTrain(pred, features, labels)"
   ]
  },
  {
   "cell_type": "code",
   "execution_count": null,
   "metadata": {
    "collapsed": true
   },
   "outputs": [],
   "source": []
  }
 ],
 "metadata": {
  "anaconda-cloud": {},
  "kernelspec": {
   "display_name": "Python [conda root]",
   "language": "python",
   "name": "conda-root-py"
  },
  "language_info": {
   "codemirror_mode": {
    "name": "ipython",
    "version": 2
   },
   "file_extension": ".py",
   "mimetype": "text/x-python",
   "name": "python",
   "nbconvert_exporter": "python",
   "pygments_lexer": "ipython2",
   "version": "2.7.12"
  }
 },
 "nbformat": 4,
 "nbformat_minor": 1
}
